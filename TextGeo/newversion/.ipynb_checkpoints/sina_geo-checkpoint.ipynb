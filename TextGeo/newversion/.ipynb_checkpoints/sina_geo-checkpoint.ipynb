{
 "cells": [
  {
   "cell_type": "code",
   "execution_count": 1,
   "metadata": {},
   "outputs": [],
   "source": [
    "%matplotlib inline\n",
    "import json"
   ]
  },
  {
   "cell_type": "code",
   "execution_count": 2,
   "metadata": {},
   "outputs": [],
   "source": [
    "with open(\"./sina_test.json\") as inf:\n",
    "    docs = [json.loads(l) for l in inf]"
   ]
  },
  {
   "cell_type": "code",
   "execution_count": 3,
   "metadata": {},
   "outputs": [],
   "source": [
    "evts = [e for art in docs for e in art['finalEvents']]"
   ]
  },
  {
   "cell_type": "code",
   "execution_count": 4,
   "metadata": {},
   "outputs": [],
   "source": [
    "from geoutils.dbManager import ESWrapper\n",
    "from geocode import BaseGeo"
   ]
  },
  {
   "cell_type": "code",
   "execution_count": 5,
   "metadata": {},
   "outputs": [],
   "source": [
    "db = ESWrapper('geonames', 'places')\n",
    "geo = BaseGeo(db)"
   ]
  },
  {
   "cell_type": "code",
   "execution_count": 37,
   "metadata": {},
   "outputs": [],
   "source": [
    "def get_geo(evt):\n",
    "    loc = evt['location']\n",
    "    #if loc['city']:\n",
    "    pts = geo.gazetteer.get_locInfo(country=loc['country'], admin=loc['state'], city=loc['city'].lower())\n",
    "    if pts == []:\n",
    "        loc = json.loads(unidecode(json.dumps(evt['location'], ensure_ascii=False)))\n",
    "    \n",
    "    pts = geo.gazetteer.get_locInfo(country=loc['country'], admin=loc['state'], city=loc['city'])\n",
    "    if pts == []:\n",
    "        pts = geo.gazetteer.get_locInfo(country=loc['country'], admin=loc['state'], city='')\n",
    "    \n",
    "    if pts == []:\n",
    "        pts = geo.gazetteer.get_locInfo(country=loc['country'], admin='', city='')\n",
    "    return pts\n",
    "\n",
    "def gg(l):\n",
    "    if l == []:\n",
    "        return None\n",
    "        \n",
    "    try:\n",
    "        return max(l, key=lambda x: x._score)\n",
    "    except:\n",
    "        print(l)"
   ]
  },
  {
   "cell_type": "code",
   "execution_count": 7,
   "metadata": {},
   "outputs": [],
   "source": [
    "from unidecode import unidecode\n",
    "locs = [get_geo(e) for e in evts]"
   ]
  },
  {
   "cell_type": "code",
   "execution_count": 8,
   "metadata": {},
   "outputs": [],
   "source": [
    "locations = [gg(l) for l in locs]"
   ]
  },
  {
   "cell_type": "code",
   "execution_count": null,
   "metadata": {},
   "outputs": [],
   "source": []
  },
  {
   "cell_type": "code",
   "execution_count": 9,
   "metadata": {},
   "outputs": [],
   "source": []
  },
  {
   "cell_type": "code",
   "execution_count": null,
   "metadata": {},
   "outputs": [],
   "source": [
    "def pp(index):\n",
    "    print(json.dumps(evts[index]['location'], ensure_ascii=False))\n",
    "    print(locations[index].__str__().encode(\"utf-8\"))\n",
    "    #for l in locations[index]:\n",
    "    #    print(l.__str__().encode(\"utf-8\")), l._score, l.featureCode\n",
    "        "
   ]
  },
  {
   "cell_type": "code",
   "execution_count": null,
   "metadata": {},
   "outputs": [],
   "source": [
    "for l in geo.gazetteer._query(evts[0]['location']['state']):\n",
    "    print(l.__str__().encode(\"utf-8\")), l.ltype"
   ]
  },
  {
   "cell_type": "code",
   "execution_count": null,
   "metadata": {},
   "outputs": [],
   "source": [
    "evts[0]['location']['state']"
   ]
  },
  {
   "cell_type": "code",
   "execution_count": 9,
   "metadata": {},
   "outputs": [],
   "source": [
    "nn = [idx for idx, l in enumerate(locations) if l is None]"
   ]
  },
  {
   "cell_type": "code",
   "execution_count": 39,
   "metadata": {},
   "outputs": [
    {
     "name": "stdout",
     "output_type": "stream",
     "text": [
      "here\n",
      "here\n",
      "here\n",
      "here\n",
      "here\n",
      "here\n",
      "here\n",
      "here\n",
      "here\n",
      "here\n",
      "here\n",
      "here\n",
      "here\n",
      "here\n",
      "here\n",
      "here\n",
      "here\n",
      "here\n",
      "here\n",
      "here\n",
      "here\n",
      "here\n",
      "here\n",
      "here\n",
      "here\n",
      "here\n",
      "here\n",
      "here\n",
      "here\n",
      "here\n",
      "here\n",
      "here\n",
      "here\n",
      "here\n",
      "here\n",
      "here\n",
      "here\n",
      "here\n",
      "here\n",
      "here\n",
      "here\n",
      "here\n",
      "here\n",
      "here\n",
      "here\n",
      "here\n",
      "here\n",
      "here\n",
      "here\n",
      "here\n",
      "here\n",
      "here\n",
      "here\n",
      "here\n",
      "here\n",
      "here\n",
      "here\n",
      "here\n"
     ]
    }
   ],
   "source": [
    "nnl = [evts[idx] for idx, l in enumerate(locations) if l is None]\n",
    "ggl = [get_geo(l) for l in nnl]"
   ]
  },
  {
   "cell_type": "code",
   "execution_count": 32,
   "metadata": {},
   "outputs": [],
   "source": []
  },
  {
   "cell_type": "code",
   "execution_count": 38,
   "metadata": {},
   "outputs": [
    {
     "name": "stdout",
     "output_type": "stream",
     "text": [
      "here\n"
     ]
    },
    {
     "data": {
      "text/plain": [
       "[<geoutils.GeoPoint at 0x7f73feb8c5d0>]"
      ]
     },
     "execution_count": 38,
     "metadata": {},
     "output_type": "execute_result"
    }
   ],
   "source": [
    "get_geo(ee[0])"
   ]
  },
  {
   "cell_type": "code",
   "execution_count": 50,
   "metadata": {},
   "outputs": [],
   "source": []
  },
  {
   "cell_type": "code",
   "execution_count": 11,
   "metadata": {},
   "outputs": [
    {
     "ename": "NameError",
     "evalue": "name 'ee' is not defined",
     "output_type": "error",
     "traceback": [
      "\u001b[0;31m---------------------------------------------------------------------------\u001b[0m",
      "\u001b[0;31mNameError\u001b[0m                                 Traceback (most recent call last)",
      "\u001b[0;32m<ipython-input-11-6bbea49c016d>\u001b[0m in \u001b[0;36m<module>\u001b[0;34m()\u001b[0m\n\u001b[0;32m----> 1\u001b[0;31m \u001b[0;32mfor\u001b[0m \u001b[0ml\u001b[0m \u001b[0;32min\u001b[0m \u001b[0mgeo\u001b[0m\u001b[0;34m.\u001b[0m\u001b[0mgazetteer\u001b[0m\u001b[0;34m.\u001b[0m\u001b[0mget_locInfo\u001b[0m\u001b[0;34m(\u001b[0m\u001b[0mcity\u001b[0m\u001b[0;34m=\u001b[0m\u001b[0mee\u001b[0m\u001b[0;34m[\u001b[0m\u001b[0;36m0\u001b[0m\u001b[0;34m]\u001b[0m\u001b[0;34m[\u001b[0m\u001b[0;34m'location'\u001b[0m\u001b[0;34m]\u001b[0m\u001b[0;34m[\u001b[0m\u001b[0;34m'city'\u001b[0m\u001b[0;34m]\u001b[0m\u001b[0;34m,\u001b[0m \u001b[0mcountry\u001b[0m\u001b[0;34m=\u001b[0m\u001b[0;34m\"united states\"\u001b[0m\u001b[0;34m,\u001b[0m \u001b[0madmin\u001b[0m\u001b[0;34m=\u001b[0m\u001b[0mee\u001b[0m\u001b[0;34m[\u001b[0m\u001b[0;36m0\u001b[0m\u001b[0;34m]\u001b[0m\u001b[0;34m[\u001b[0m\u001b[0;34m'location'\u001b[0m\u001b[0;34m]\u001b[0m\u001b[0;34m[\u001b[0m\u001b[0;34m'state'\u001b[0m\u001b[0;34m]\u001b[0m\u001b[0;34m)\u001b[0m\u001b[0;34m:\u001b[0m\u001b[0;34m\u001b[0m\u001b[0m\n\u001b[0m\u001b[1;32m      2\u001b[0m     \u001b[0;32mprint\u001b[0m\u001b[0;34m(\u001b[0m\u001b[0ml\u001b[0m\u001b[0;34m)\u001b[0m\u001b[0;34m\u001b[0m\u001b[0m\n",
      "\u001b[0;31mNameError\u001b[0m: name 'ee' is not defined"
     ]
    }
   ],
   "source": [
    "for l in geo.gazetteer.get_locInfo(city=ee[0]['location']['city'], country=\"united states\", admin=ee[0]['location']['state']):\n",
    "    print(l)"
   ]
  },
  {
   "cell_type": "code",
   "execution_count": 59,
   "metadata": {},
   "outputs": [
    {
     "data": {
      "text/plain": [
       "[]"
      ]
     },
     "execution_count": 59,
     "metadata": {},
     "output_type": "execute_result"
    }
   ],
   "source": [
    "geo.gazetteer.get_locInfo(city=\"as sayyidah zaynab\", country='Egypt')"
   ]
  },
  {
   "cell_type": "code",
   "execution_count": 31,
   "metadata": {},
   "outputs": [
    {
     "data": {
      "text/plain": [
       "[<geoutils.GeoPoint at 0x7f73fa6bec10>]"
      ]
     },
     "execution_count": 31,
     "metadata": {},
     "output_type": "execute_result"
    }
   ],
   "source": [
    "geo.gazetteer.get_locInfo(country='tunisia', admin='tunis', city='')"
   ]
  },
  {
   "cell_type": "code",
   "execution_count": 12,
   "metadata": {},
   "outputs": [],
   "source": [
    "from collections import Counter\n",
    "cc = Counter([json.dumps(evts[idx][\"location\"], sort_keys=True, ensure_ascii=False) for idx in nn])"
   ]
  },
  {
   "cell_type": "code",
   "execution_count": 24,
   "metadata": {},
   "outputs": [
    {
     "name": "stdout",
     "output_type": "stream",
     "text": [
      "\"{\\\"city\\\": \\\"\\\", \\\"country\\\": \\\"Palestine\\\", \\\"state\\\": \\\"Rām Allāh wal-Bīrah\\\"}\" 9\n",
      "\"{\\\"city\\\": \\\"\\\", \\\"country\\\": \\\"Palestine\\\", \\\"state\\\": \\\"al-Quds\\\"}\" 9\n",
      "\"{\\\"city\\\": \\\"Baytūniyā\\\", \\\"country\\\": \\\"Palestine\\\", \\\"state\\\": \\\"Rām Allāh wal-Bīrah\\\"}\" 5\n",
      "\"{\\\"city\\\": \\\"Hong Kong\\\", \\\"country\\\": \\\"China\\\", \\\"state\\\": \\\"\\\"}\" 4\n",
      "\"{\\\"city\\\": \\\"\\\", \\\"country\\\": \\\"Palestine\\\", \\\"state\\\": \\\"Hebron\\\"}\" 4\n",
      "\"{\\\"city\\\": \\\"\\\", \\\"country\\\": \\\"China\\\", \\\"state\\\": \\\"Hongkong\\\"}\" 3\n",
      "\"{\\\"city\\\": \\\"Carthago\\\", \\\"country\\\": \\\"Tunisia\\\", \\\"state\\\": \\\"Tunis\\\"}\" 3\n",
      "\"{\\\"city\\\": \\\"\\\", \\\"country\\\": \\\"Palestine\\\", \\\"state\\\": \\\"Nablus\\\"}\" 3\n",
      "\"{\\\"city\\\": \\\"\\\", \\\"country\\\": \\\"Tunisia\\\", \\\"state\\\": \\\"al-Qaşrayn\\\"}\" 2\n",
      "\"{\\\"city\\\": \\\"\\\", \\\"country\\\": \\\"Palestine\\\", \\\"state\\\": \\\"Ġazzah\\\"}\" 2\n",
      "\"{\\\"city\\\": \\\"Prague\\\", \\\"country\\\": \\\"Czech Republic\\\", \\\"state\\\": \\\"Prag\\\"}\" 2\n",
      "\"{\\\"city\\\": \\\"'Aydah\\\", \\\"country\\\": \\\"Palestine\\\", \\\"state\\\": \\\"Bayt Lah̨m\\\"}\" 2\n",
      "\"{\\\"city\\\": \\\"'Izbat at Tabib\\\", \\\"country\\\": \\\"Palestine\\\", \\\"state\\\": \\\"Qalqīlyah\\\"}\" 2\n",
      "\"{\\\"city\\\": \\\"Ruwān\\\", \\\"country\\\": \\\"Syria\\\", \\\"state\\\": \\\"Rif-dimashq\\\"}\" 1\n",
      "\"{\\\"city\\\": \\\"Qarmadah\\\", \\\"country\\\": \\\"Tunisia\\\", \\\"state\\\": \\\"Şafāqis\\\"}\" 1\n",
      "\"{\\\"city\\\": \\\"\\\", \\\"country\\\": \\\"Palestine\\\", \\\"state\\\": \\\"H̱ān Yūnis\\\"}\" 1\n",
      "\"{\\\"city\\\": \\\"Bengali\\\", \\\"country\\\": \\\"India\\\", \\\"state\\\": \\\"Andaman and Nicobar Islands\\\"}\" 1\n",
      "\"{\\\"city\\\": \\\"\\\", \\\"country\\\": \\\"Palestine\\\", \\\"state\\\": \\\"Bayt Lah̨m\\\"}\" 1\n",
      "\"{\\\"city\\\": \\\"\\\", \\\"country\\\": \\\"Palestine\\\", \\\"state\\\": \\\"Ţūlkarm\\\"}\" 1\n",
      "\"{\\\"city\\\": \\\"\\\", \\\"country\\\": \\\"Palestine\\\", \\\"state\\\": \\\"Šamāl Ġazzah\\\"}\" 1\n",
      "\"{\\\"city\\\": \\\"Qaryah No. 3\\\", \\\"country\\\": \\\"Egypt\\\", \\\"state\\\": \\\"Al Ismā‘īlīyah\\\"}\" 1\n"
     ]
    }
   ],
   "source": [
    "for l in cc.most_common(30):\n",
    "    print(json.dumps(l[0], ensure_ascii=False).encode(\"utf-8\")), l[1]"
   ]
  },
  {
   "cell_type": "code",
   "execution_count": 29,
   "metadata": {},
   "outputs": [
    {
     "name": "stdout",
     "output_type": "stream",
     "text": [
      "Czechia// Czechia pcli 1.0 country\n",
      "Greece// Greece pcli 0.327042930818 country\n",
      "Slovakia// Slovakia pcli 0.326267268519 country\n",
      "Portugal// Portugal pcli 0.324959319246 country\n",
      "Gabon// Gabon pcli 0.324959319246 country\n",
      "Argentina// Argentina pcli 0.32250035776 country\n",
      "Dominican Republic// Dominican Republic pcli 0.32250035776 country\n",
      "Kyrgyzstan// Kyrgyzstan pcli 0.32250035776 country\n",
      "Togo// Togo pcli 0.321342990826 country\n",
      "Armenia// Armenia pcli 0.258462685282 country\n"
     ]
    }
   ],
   "source": [
    "for l in geo.gazetteer.query(u\"czech republic\", featureCode='pcli'):\n",
    "    print(l.__str__().encode(\"utf-8\")), l.country, l.featureCode, l._score, l.ltype"
   ]
  },
  {
   "cell_type": "code",
   "execution_count": 27,
   "metadata": {},
   "outputs": [
    {
     "data": {
      "text/plain": [
       "[<geoutils.GeoPoint at 0x7f73fa6d1f90>,\n",
       " <geoutils.GeoPoint at 0x7f73fa6d1850>,\n",
       " <geoutils.GeoPoint at 0x7f73feb83c10>,\n",
       " <geoutils.GeoPoint at 0x7f73fa6be6d0>,\n",
       " <geoutils.GeoPoint at 0x7f73fa6be710>,\n",
       " <geoutils.GeoPoint at 0x7f73fa6be750>,\n",
       " <geoutils.GeoPoint at 0x7f73fa6be790>,\n",
       " <geoutils.GeoPoint at 0x7f73fa6be7d0>,\n",
       " <geoutils.GeoPoint at 0x7f73fa6be810>,\n",
       " <geoutils.GeoPoint at 0x7f73fa6be850>]"
      ]
     },
     "execution_count": 27,
     "metadata": {},
     "output_type": "execute_result"
    }
   ],
   "source": [
    "geo.gazetteer._query(\"czech republic\")"
   ]
  },
  {
   "cell_type": "code",
   "execution_count": 30,
   "metadata": {},
   "outputs": [
    {
     "name": "stdout",
     "output_type": "stream",
     "text": [
      "2\n"
     ]
    }
   ],
   "source": [
    "country = \"palestine\"\n",
    "city = 'hebron'\n",
    "gaz = geo.gazetteer\n",
    "countrycode = gaz._querycountry(country)\n",
    "if countrycode:\n",
    "    co = countrycode[0]\n",
    "    country=co.name\n",
    "    countrycode = co.countryCode\n",
    "else:\n",
    "    countrycode = None\n",
    "\n",
    "if countrycode:\n",
    "    pts = gaz._query(city, countryCode=countrycode.lower())\n",
    "else:\n",
    "    pts = gaz._query(city)\n",
    "\n",
    "\n",
    "print(len(pts))\n",
    "pts = [p for p in pts if ((p.country.lower() in country.lower()) or \n",
    "                          (country.lower() in p.country.lower())) \n",
    "       and p.featureCode[:3] in (\"pcl\", \"adm\", \"ppl\")]    "
   ]
  },
  {
   "cell_type": "code",
   "execution_count": 32,
   "metadata": {},
   "outputs": [
    {
     "name": "stdout",
     "output_type": "stream",
     "text": [
      "Palestinian Territory/West Bank/hebron\n",
      "Palestinian Territory/West Bank/al khalil\n"
     ]
    }
   ],
   "source": [
    "for l in pts:\n",
    "    print(l)"
   ]
  },
  {
   "cell_type": "code",
   "execution_count": 21,
   "metadata": {},
   "outputs": [
    {
     "data": {
      "text/plain": [
       "u'CN'"
      ]
     },
     "execution_count": 21,
     "metadata": {},
     "output_type": "execute_result"
    }
   ],
   "source": [
    "geo.gazetteer._querycountry(\"china\")[0].countryCode"
   ]
  },
  {
   "cell_type": "code",
   "execution_count": 30,
   "metadata": {},
   "outputs": [
    {
     "name": "stdout",
     "output_type": "stream",
     "text": [
      "Hong Kong// PCLI HK\n"
     ]
    }
   ],
   "source": [
    "for l in geo.gazetteer.query(\"hong kong\", countryCode='cn3', min_popln=None):\n",
    "    print(l.__str__().encode(\"utf-8\")), l.featureCode, l.countryCode"
   ]
  },
  {
   "cell_type": "code",
   "execution_count": 18,
   "metadata": {},
   "outputs": [],
   "source": [
    "from geoutils import CountryDB"
   ]
  },
  {
   "cell_type": "code",
   "execution_count": 20,
   "metadata": {},
   "outputs": [
    {
     "data": {
      "text/plain": [
       "[u'palestinian territory']"
      ]
     },
     "execution_count": 20,
     "metadata": {},
     "output_type": "execute_result"
    }
   ],
   "source": [
    "[k for k in CountryDB.keys() if 'pales' in k]"
   ]
  },
  {
   "cell_type": "code",
   "execution_count": 16,
   "metadata": {},
   "outputs": [],
   "source": [
    "pts = geo.gazetteer._query(evts[0]['location']['city'])\n",
    "pts2 = [p for p in pts if p.country.lower() == \"Egypt\".lower() \n",
    "       and p.featureCode in (\"pcla\", \"pcli\", \"adm1\", \"adm2\", \"admd\", \"ppla\", \n",
    "                             \"ppl\", \"ppla2\", \"ppla3\", \"ppla4\", \"pplc\")]"
   ]
  },
  {
   "cell_type": "code",
   "execution_count": 23,
   "metadata": {},
   "outputs": [
    {
     "data": {
      "text/plain": [
       "{'ISO': u'PS',\n",
       " 'ISO3': u'PSE',\n",
       " 'IsoNumeric': u'275',\n",
       " '_score': 1.0,\n",
       " 'admin1': '',\n",
       " 'area': u'5970',\n",
       " 'capital': u'East Jerusalem',\n",
       " 'city': '',\n",
       " 'continent': u'AS',\n",
       " 'country': u'Palestinian Territory',\n",
       " 'countryCode': u'PS',\n",
       " 'currencyCode': u'ILS',\n",
       " 'currentcyName': u'Shekel',\n",
       " 'featureClass': u'A',\n",
       " 'featureCode': u'PCLI',\n",
       " 'fips': u'WE',\n",
       " 'geonameid': u'6254930',\n",
       " 'languages': u'ar-PS',\n",
       " 'ltype': 'country',\n",
       " 'name': u'Palestinian Territory',\n",
       " 'neighbours': u'JO,IL,EG',\n",
       " 'phone': u'970',\n",
       " 'population': 3800000,\n",
       " 'postalCode': u'',\n",
       " 'postcalCodeRegex': u'',\n",
       " 'tld': u'.ps'}"
      ]
     },
     "execution_count": 23,
     "metadata": {},
     "output_type": "execute_result"
    }
   ],
   "source": [
    "geo.gazetteer._querycountry(\"palestinian territory\")[0].__dict__"
   ]
  },
  {
   "cell_type": "code",
   "execution_count": 17,
   "metadata": {},
   "outputs": [
    {
     "name": "stdout",
     "output_type": "stream",
     "text": [
      "ppla\n",
      "adm1\n",
      "adm2\n"
     ]
    }
   ],
   "source": [
    "for l in pts2:\n",
    "    print(l.featureCode)"
   ]
  },
  {
   "cell_type": "code",
   "execution_count": 26,
   "metadata": {},
   "outputs": [
    {
     "name": "stdout",
     "output_type": "stream",
     "text": [
      "Egypt/Qena/markaz qinā 0\n",
      "Egypt/Qena/qinā 235362\n",
      "Egypt/Qena/ 2959175\n",
      "Egypt/North Sinai/markaz rafaḩ 0\n",
      "Egypt/Gharbia/markaz samannūd 0\n",
      "Egypt/Beheira/markaz rashīd 0\n",
      "Egypt/Monufia/markaz quwaysinā 0\n",
      "Egypt/Qalyubia/markaz qalyūb 0\n",
      "Egypt/Kafr el-Sheikh/markaz qallīn 0\n",
      "Egypt/Alexandria/markaz maryūţ 0\n"
     ]
    }
   ],
   "source": [
    "for l in geo.gazetteer._query(pts2[2].name):\n",
    "    print(l.__str__().encode(\"utf-8\")), l.population"
   ]
  },
  {
   "cell_type": "code",
   "execution_count": 23,
   "metadata": {},
   "outputs": [
    {
     "data": {
      "text/plain": [
       "u'markaz qin\\u0101'"
      ]
     },
     "execution_count": 23,
     "metadata": {},
     "output_type": "execute_result"
    }
   ],
   "source": [
    "pts2[2].name"
   ]
  },
  {
   "cell_type": "code",
   "execution_count": 19,
   "metadata": {},
   "outputs": [
    {
     "data": {
      "text/plain": [
       "u'markaz qin\\u0101'"
      ]
     },
     "execution_count": 19,
     "metadata": {},
     "output_type": "execute_result"
    }
   ],
   "source": [
    "pts2[2].name"
   ]
  },
  {
   "cell_type": "code",
   "execution_count": 15,
   "metadata": {},
   "outputs": [
    {
     "name": "stdout",
     "output_type": "stream",
     "text": [
      "Egypt/Qena/qinā ppla\n",
      "Egypt/Qena/ adm1\n",
      "Egypt/Qena/markaz qinā adm2\n"
     ]
    }
   ],
   "source": [
    "for l in geo.gazetteer.query(evts[0]['location']['city']):\n",
    "    print(l.__str__().encode(\"utf-8\")), l.featureCode"
   ]
  },
  {
   "cell_type": "code",
   "execution_count": 33,
   "metadata": {},
   "outputs": [
    {
     "data": {
      "text/plain": [
       "{'_score': 1.0,\n",
       " 'admin1': u'Cairo',\n",
       " 'admin2': '',\n",
       " 'admin3': u'',\n",
       " 'admin4': u'',\n",
       " 'alternatenames': [u'bab al luq',\n",
       "  u'bab-el-luq',\n",
       "  u'b\\xe2b-el-l\\xfbq',\n",
       "  u'b\\u0101b al l\\u016bq'],\n",
       " 'asciiname': u'bab al luq',\n",
       " 'cc2': u'eg',\n",
       " 'city': '',\n",
       " 'coordinates': [31.23333, 30.05],\n",
       " 'country': u'Egypt',\n",
       " 'countryCode': u'eg',\n",
       " 'dem': u'29',\n",
       " 'elevation': -1,\n",
       " 'featureClass': u's',\n",
       " 'featureCode': u'rstn',\n",
       " 'geonameid': u'359453',\n",
       " 'id': u'359453',\n",
       " 'ltype': 'Building',\n",
       " 'modificationDate': u'2012-01-19',\n",
       " 'name': u'b\\u0101b al l\\u016bq',\n",
       " 'population': 0,\n",
       " 'timezone': u'africa/cairo'}"
      ]
     },
     "execution_count": 33,
     "metadata": {},
     "output_type": "execute_result"
    }
   ],
   "source": [
    "locs[4000][0].__dict__"
   ]
  },
  {
   "cell_type": "code",
   "execution_count": null,
   "metadata": {},
   "outputs": [],
   "source": []
  }
 ],
 "metadata": {
  "kernelspec": {
   "display_name": "Python 2",
   "language": "python",
   "name": "python2"
  },
  "language_info": {
   "codemirror_mode": {
    "name": "ipython",
    "version": 2
   },
   "file_extension": ".py",
   "mimetype": "text/x-python",
   "name": "python",
   "nbconvert_exporter": "python",
   "pygments_lexer": "ipython2",
   "version": "2.7.12"
  }
 },
 "nbformat": 4,
 "nbformat_minor": 2
}
